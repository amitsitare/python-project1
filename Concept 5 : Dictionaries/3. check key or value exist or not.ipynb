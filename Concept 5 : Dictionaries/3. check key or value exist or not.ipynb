{
 "cells": [
  {
   "cell_type": "markdown",
   "metadata": {},
   "source": [
    "Check if a key exists in a dictionary:\n",
    "sample_dict = {‘a’: 100, ‘b’: 200, ‘c’: 300}\n",
    "key_needed = ‘d’\n",
    "Check if a value exists in a dictionary:\n",
    "sample_dict = {‘a’: 100, ‘b’: 200, ‘c’: 300}\n",
    "value_needed = 200"
   ]
  },
  {
   "cell_type": "code",
   "execution_count": 6,
   "metadata": {},
   "outputs": [
    {
     "name": "stdout",
     "output_type": "stream",
     "text": [
      "key does exist in this dictionary.\n",
      "value exists in this dictionary.\n"
     ]
    }
   ],
   "source": [
    "sample_dict={\"a\":100,'b':200,'c':300}\n",
    "key_needed='d'   # we take key_needed as variable name of key\n",
    "value_needed=200   # we take value_needed as variable name of value\n",
    "if key_needed in sample_dict.keys(): # it will check key is present in dictionary or not\n",
    "    print(\"key exists in this dictionary.\")\n",
    "else:\n",
    "    print(\"key does exist in this dictionary.\")\n",
    "if value_needed in sample_dict.values(): #it will check value is present in dictionary or not\n",
    "        print(\"value exists in this dictionary.\")\n",
    "else:\n",
    "    print(\"value does not exist in this dictionary.\")\n",
    "\n",
    "\n"
   ]
  },
  {
   "cell_type": "code",
   "execution_count": null,
   "metadata": {},
   "outputs": [],
   "source": []
  }
 ],
 "metadata": {
  "kernelspec": {
   "display_name": "Python 3",
   "language": "python",
   "name": "python3"
  },
  "language_info": {
   "codemirror_mode": {
    "name": "ipython",
    "version": 3
   },
   "file_extension": ".py",
   "mimetype": "text/x-python",
   "name": "python",
   "nbconvert_exporter": "python",
   "pygments_lexer": "ipython3",
   "version": "3.11.6"
  }
 },
 "nbformat": 4,
 "nbformat_minor": 2
}
