{
 "cells": [
  {
   "cell_type": "markdown",
   "metadata": {},
   "source": [
    "Given a list of numbers find out how many even numbers it has."
   ]
  },
  {
   "cell_type": "code",
   "execution_count": 1,
   "metadata": {},
   "outputs": [
    {
     "name": "stdout",
     "output_type": "stream",
     "text": [
      "total of even numbers= 4\n"
     ]
    }
   ],
   "source": [
    "list1=[4,3,2,4,5,8,9] # we give the list with numbers\n",
    "count1=0  # we take count1 as variable name to count the even numbers\n",
    "for i in list1:  # for loop give the list1 numbers one by one\n",
    "    if i%2==0:  # here it will check the number is even or not\n",
    "        count1+=1  # if number is even it will count\n",
    "print(\"total of even numbers=\",count1)"
   ]
  },
  {
   "cell_type": "code",
   "execution_count": null,
   "metadata": {},
   "outputs": [],
   "source": []
  }
 ],
 "metadata": {
  "kernelspec": {
   "display_name": "Python 3",
   "language": "python",
   "name": "python3"
  },
  "language_info": {
   "codemirror_mode": {
    "name": "ipython",
    "version": 3
   },
   "file_extension": ".py",
   "mimetype": "text/x-python",
   "name": "python",
   "nbconvert_exporter": "python",
   "pygments_lexer": "ipython3",
   "version": "3.11.6"
  }
 },
 "nbformat": 4,
 "nbformat_minor": 2
}
