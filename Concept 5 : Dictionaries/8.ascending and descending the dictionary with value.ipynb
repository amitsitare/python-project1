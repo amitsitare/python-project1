{
 "cells": [
  {
   "cell_type": "markdown",
   "metadata": {},
   "source": [
    "Create a dictionary of your marks in various subjects and then sort it by its values first in descending order, and then in or ascending order. Do not use any inbuilt sorting functions."
   ]
  },
  {
   "cell_type": "code",
   "execution_count": 16,
   "metadata": {},
   "outputs": [
    {
     "name": "stdout",
     "output_type": "stream",
     "text": [
      "{'Python': 90, 'Chemistry': 89, 'Physiics': 78, 'English': 56}\n",
      "{'English': 56, 'Physiics': 78, 'Chemistry': 89, 'Python': 90}\n"
     ]
    }
   ],
   "source": [
    "my_dict={\"Physiics\":78,\"Chemistry\":89,\"Python\":90,\"English\":56}\n",
    "list1=[]\n",
    "list2=[]\n",
    "descend_dict={}\n",
    "for key,value in my_dict.items(): # it will iterate the keys and values of my_dict \n",
    "    list1.append(value)\n",
    "    list2.append(key)\n",
    "for i in range(len(list1)):\n",
    "    for j in range(i+1,len(list1)):\n",
    "        if list1[i]<list1[j]: # here it is checking value before second value is smaller or not\n",
    "            list1[i],list1[j]=list1[j],list1[i] # here we are swaping the value\n",
    "            list2[i],list2[j]=list2[j],list2[i] # here we are swaping the key    \n",
    "    descend_dict[list2[i]]=list1[i]\n",
    "print(descend_dict)\n",
    "# this code for ascending dictionary by its value\n",
    "my_dict={\"Physiics\":78,\"Chemistry\":89,\"Python\":90,\"English\":56}\n",
    "list1=[]\n",
    "list2=[]\n",
    "ascend_dict={}\n",
    "for key,value in my_dict.items():\n",
    "    list1.append(value)\n",
    "    list2.append(key)\n",
    "for i in range(len(list1)):\n",
    "    for j in range(i+1,len(list1)):\n",
    "        if list1[i]>list1[j]:# here it is checking value before second value is greater or not\n",
    "            list1[i],list1[j]=list1[j],list1[i]# here we are swaping the valu\n",
    "            list2[i],list2[j]=list2[j],list2[i]# here we are swaping the key\n",
    "    ascend_dict[list2[i]]=list1[i]\n",
    "print(ascend_dict)\n",
    "\n",
    "\n"
   ]
  },
  {
   "cell_type": "code",
   "execution_count": null,
   "metadata": {},
   "outputs": [],
   "source": []
  }
 ],
 "metadata": {
  "kernelspec": {
   "display_name": "Python 3",
   "language": "python",
   "name": "python3"
  },
  "language_info": {
   "codemirror_mode": {
    "name": "ipython",
    "version": 3
   },
   "file_extension": ".py",
   "mimetype": "text/x-python",
   "name": "python",
   "nbconvert_exporter": "python",
   "pygments_lexer": "ipython3",
   "version": "3.11.6"
  }
 },
 "nbformat": 4,
 "nbformat_minor": 2
}
