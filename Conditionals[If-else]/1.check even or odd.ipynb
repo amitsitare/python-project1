{
 "cells": [
  {
   "cell_type": "markdown",
   "metadata": {},
   "source": [
    "Given an integer,check if it is even or odd."
   ]
  },
  {
   "cell_type": "code",
   "execution_count": 6,
   "metadata": {},
   "outputs": [
    {
     "name": "stdout",
     "output_type": "stream",
     "text": [
      "integer is zero\n"
     ]
    }
   ],
   "source": [
    "num1=int(input(\"Enter a integer\"))\n",
    "if num1==0:\n",
    "    print(\"integer is zero\")\n",
    "elif num1%2==0:   # here %(modulus) operatetor  devide and give the remainder\n",
    "    print(\"integer is even\")\n",
    "else:\n",
    "    print(\"integer is odd\")\n"
   ]
  },
  {
   "cell_type": "code",
   "execution_count": null,
   "metadata": {},
   "outputs": [],
   "source": [
    "\n",
    "\n"
   ]
  }
 ],
 "metadata": {
  "kernelspec": {
   "display_name": "Python 3",
   "language": "python",
   "name": "python3"
  },
  "language_info": {
   "codemirror_mode": {
    "name": "ipython",
    "version": 3
   },
   "file_extension": ".py",
   "mimetype": "text/x-python",
   "name": "python",
   "nbconvert_exporter": "python",
   "pygments_lexer": "ipython3",
   "version": "3.11.6"
  }
 },
 "nbformat": 4,
 "nbformat_minor": 2
}
