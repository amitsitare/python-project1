{
 "cells": [
  {
   "cell_type": "markdown",
   "metadata": {},
   "source": [
    "Given a list of integers, find all pairs of integers in the list whose sum is zero."
   ]
  },
  {
   "cell_type": "code",
   "execution_count": 3,
   "metadata": {},
   "outputs": [
    {
     "name": "stdout",
     "output_type": "stream",
     "text": [
      "[[5, -5], [3, -3], [6, -6]]\n"
     ]
    }
   ],
   "source": [
    "# Given list of numbers\n",
    "list1 = [5, 3, 4, -3, 5, -3, -6, 7, 6, -5]\n",
    "\n",
    "# Lists to store positive and negative numbers without duplicates\n",
    "pos_lst = []  # Positive numbers list\n",
    "neg_lst = []  # Negative numbers list\n",
    "\n",
    "# List to store pairs of numbers whose sum is zero\n",
    "pair = []\n",
    "\n",
    "# Loop through the elements of the given list\n",
    "for i in list1:\n",
    "    # Check if the number is non-negative and not already in the positive list\n",
    "    if i >= 0 and (i not in pos_lst):\n",
    "        pos_lst.append(i)\n",
    "    # Check if the number is negative and not already in the negative list\n",
    "    elif i < 0 and (i not in neg_lst):\n",
    "        neg_lst.append(i)\n",
    "\n",
    "# Iterate through positive and negative lists to find pairs with sum zero\n",
    "for i in pos_lst:\n",
    "    for j in neg_lst:\n",
    "        # Check if the pair's sum is zero\n",
    "        if i + j == 0:\n",
    "            pair.append([i, j])\n",
    "\n",
    "# Print the pairs whose sum is zero\n",
    "print(pair)"
   ]
  },
  {
   "cell_type": "code",
   "execution_count": null,
   "metadata": {},
   "outputs": [],
   "source": []
  }
 ],
 "metadata": {
  "kernelspec": {
   "display_name": "Python 3",
   "language": "python",
   "name": "python3"
  },
  "language_info": {
   "codemirror_mode": {
    "name": "ipython",
    "version": 3
   },
   "file_extension": ".py",
   "mimetype": "text/x-python",
   "name": "python",
   "nbconvert_exporter": "python",
   "pygments_lexer": "ipython3",
   "version": "3.11.6"
  }
 },
 "nbformat": 4,
 "nbformat_minor": 2
}
