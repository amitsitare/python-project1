{
 "cells": [
  {
   "cell_type": "markdown",
   "metadata": {},
   "source": [
    "Given a positive integer, find out its factorial."
   ]
  },
  {
   "cell_type": "code",
   "execution_count": 1,
   "metadata": {},
   "outputs": [
    {
     "name": "stdout",
     "output_type": "stream",
     "text": [
      "factorial of integer 120\n"
     ]
    }
   ],
   "source": [
    "num1=int(input(\"enter the  positive integer\"))  # give a positive integer\n",
    "if num1==0 and num1==1:    # if integer is 1 or 0 it factorial is 1\n",
    "    print(\"factorial of integer\",1)\n",
    "else:     \n",
    "   fact=1   # we take fact variable name to store the factorial\n",
    "   for i in range(2,num1+1): # it for loop run from 2 , upto given integer\n",
    "      fact=fact*i    # here i will multiplicatin with fact to caclulate the factorial \n",
    "print(\"factorial of integer\",fact)"
   ]
  },
  {
   "cell_type": "code",
   "execution_count": null,
   "metadata": {},
   "outputs": [],
   "source": []
  },
  {
   "cell_type": "code",
   "execution_count": null,
   "metadata": {},
   "outputs": [],
   "source": []
  }
 ],
 "metadata": {
  "kernelspec": {
   "display_name": "Python 3",
   "language": "python",
   "name": "python3"
  },
  "language_info": {
   "codemirror_mode": {
    "name": "ipython",
    "version": 3
   },
   "file_extension": ".py",
   "mimetype": "text/x-python",
   "name": "python",
   "nbconvert_exporter": "python",
   "pygments_lexer": "ipython3",
   "version": "3.11.6"
  }
 },
 "nbformat": 4,
 "nbformat_minor": 2
}
