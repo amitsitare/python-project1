{
 "cells": [
  {
   "cell_type": "markdown",
   "metadata": {},
   "source": [
    "Convert these two lists into a dictionary. Take the keys from the first list, and values from the second one.\n",
    "keys = [‘Ten’, ‘Twenty’, ‘Thirty’]\n",
    "values = [10, 20, 30]"
   ]
  },
  {
   "cell_type": "code",
   "execution_count": 2,
   "metadata": {},
   "outputs": [
    {
     "name": "stdout",
     "output_type": "stream",
     "text": [
      "{'Ten': 10, 'Twenty': 20, 'Thirty': 30}\n"
     ]
    }
   ],
   "source": [
    "keys=['Ten','Twenty','Thirty'] \n",
    "values=[10,20,30]\n",
    "keys_len=len(keys) # we are finding the length of keys list\n",
    "values_len=len(values) # we are finding the length of values list\n",
    "if keys_len==values_len: # we check the length of both list is equal or not\n",
    "    new_dict={} # we take new_dict variable name to new dictionary\n",
    "    for i in range(keys_len): # for loop will run by three times\n",
    "        key=keys[i] # it take the key from the keys list\n",
    "        value=values[i]  # it take the value from the values list\n",
    "        new_dict[key]=value # it store the key values as new dictionary\n",
    "    print(new_dict)\n",
    "else:\n",
    "    print(\"length of list keys not equal to length of list values\")"
   ]
  },
  {
   "cell_type": "code",
   "execution_count": null,
   "metadata": {},
   "outputs": [],
   "source": []
  }
 ],
 "metadata": {
  "kernelspec": {
   "display_name": "Python 3",
   "language": "python",
   "name": "python3"
  },
  "language_info": {
   "codemirror_mode": {
    "name": "ipython",
    "version": 3
   },
   "file_extension": ".py",
   "mimetype": "text/x-python",
   "name": "python",
   "nbconvert_exporter": "python",
   "pygments_lexer": "ipython3",
   "version": "3.11.6"
  }
 },
 "nbformat": 4,
 "nbformat_minor": 2
}
