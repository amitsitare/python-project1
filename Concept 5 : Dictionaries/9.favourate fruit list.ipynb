{
 "cells": [
  {
   "cell_type": "markdown",
   "metadata": {},
   "source": [
    "Create a dictionary whose keys are the names of your family members and friends, and the values are the list of fruits they like to eat. Now if the user gives a fruit as input, the code should print the list of names who like this fruit. Write another code to print the list of people who do not like this fruit. Using this dictionary as input, write a code to make a consolidated list of all the fruit names present in the values of various keys. This list should not have any duplicate entries. Do not use the set() function."
   ]
  },
  {
   "cell_type": "code",
   "execution_count": 8,
   "metadata": {},
   "outputs": [
    {
     "name": "stdout",
     "output_type": "stream",
     "text": [
      "list of names who like this friut= ['Suresh', 'Rajat']\n",
      "list of names who does not like this friut= ['Amit']\n",
      "consolidated list= ['apple', 'mango', 'guava', 'grapes', 'banana', 'coconut']\n"
     ]
    }
   ],
   "source": [
    "# this code for print the list who like the given fruit\n",
    "my_dict={\"Amit\":[\"apple\",\"mango\",\"guava\"],\"Suresh\":[\"grapes\",\"banana\"],\"Rajat\":[\"coconut\",\"apple\",\"banana\"]}\n",
    "fruits=input(\"enter the fruit name\")\n",
    "fav_list=[]\n",
    "unfav_list=[]\n",
    "fruits=fruits.lower() # here it will make the fruit name in lowercase\n",
    "for key,value in my_dict.items():\n",
    "   if fruits in value:\n",
    "        fav_list.append(key)\n",
    "print(\"list of names who like this friut=\",fav_list)\n",
    "\n",
    "# this code for print list of names who does not like given fruit\n",
    "unfav_list=[]\n",
    "for key,value in my_dict.items():\n",
    "    if fruits not in value:\n",
    "        unfav_list.append(key)\n",
    "print(\"list of names who does not like this friut=\",unfav_list)\n",
    "# this code for print list without duplicate name of fruits\n",
    "mydict=[]\n",
    "for value in my_dict.values():\n",
    "    for i in value:\n",
    "        if i not in mydict: # it condition for fruit name not repeated\n",
    "            mydict.append(i)\n",
    "print(\"consolidated list=\",mydict)\n",
    "\n",
    "    \n"
   ]
  },
  {
   "cell_type": "code",
   "execution_count": null,
   "metadata": {},
   "outputs": [],
   "source": []
  }
 ],
 "metadata": {
  "kernelspec": {
   "display_name": "Python 3",
   "language": "python",
   "name": "python3"
  },
  "language_info": {
   "codemirror_mode": {
    "name": "ipython",
    "version": 3
   },
   "file_extension": ".py",
   "mimetype": "text/x-python",
   "name": "python",
   "nbconvert_exporter": "python",
   "pygments_lexer": "ipython3",
   "version": "3.11.6"
  }
 },
 "nbformat": 4,
 "nbformat_minor": 2
}
