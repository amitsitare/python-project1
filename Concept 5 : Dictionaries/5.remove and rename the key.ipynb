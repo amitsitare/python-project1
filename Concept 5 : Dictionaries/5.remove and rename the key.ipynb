{
 "cells": [
  {
   "cell_type": "markdown",
   "metadata": {},
   "source": [
    "Remove a key from a dictionary:\n",
    "dict_name.pop(key_name)\n",
    "What does this function return?\n",
    "Use pop to rename a key."
   ]
  },
  {
   "cell_type": "code",
   "execution_count": 5,
   "metadata": {},
   "outputs": [
    {
     "name": "stdout",
     "output_type": "stream",
     "text": [
      "{'sumit': 45, 'ram': 67}\n",
      "{'ram': 67, 'mohan': 45}\n"
     ]
    }
   ],
   "source": [
    "dict_name={\"amit\":12,\"sumit\":45,\"ram\":67}\n",
    "dict_name.pop(\"amit\") # it will remove the key with it value from the \n",
    "                       #dictionary by specified  key name\n",
    "print(dict_name)\n",
    "mohan=45 # we take mohan as new key to rename \n",
    "dict_name[\"mohan\"]=dict_name.pop(\"sumit\") # here it will rename the key\n",
    "print(dict_name)"
   ]
  },
  {
   "cell_type": "code",
   "execution_count": null,
   "metadata": {},
   "outputs": [],
   "source": []
  }
 ],
 "metadata": {
  "kernelspec": {
   "display_name": "Python 3",
   "language": "python",
   "name": "python3"
  },
  "language_info": {
   "codemirror_mode": {
    "name": "ipython",
    "version": 3
   },
   "file_extension": ".py",
   "mimetype": "text/x-python",
   "name": "python",
   "nbconvert_exporter": "python",
   "pygments_lexer": "ipython3",
   "version": "3.11.6"
  }
 },
 "nbformat": 4,
 "nbformat_minor": 2
}
