{
 "cells": [
  {
   "cell_type": "markdown",
   "metadata": {},
   "source": [
    "Given a list of numbers, find out how many times each number occurs in the list."
   ]
  },
  {
   "cell_type": "code",
   "execution_count": 1,
   "metadata": {},
   "outputs": [
    {
     "name": "stdout",
     "output_type": "stream",
     "text": [
      "the 2 is the time in list1 2\n",
      "the 3 is the time in list1 2\n",
      "the 4 is the time in list1 2\n",
      "the 5 is the time in list1 2\n",
      "the 1 is the time in list1 1\n"
     ]
    }
   ],
   "source": [
    "list1=[2,3,2,4,5,4,1,3,5]\n",
    "my_list=[] # we take my_list as variable name empty list\n",
    "for i in list1:\n",
    "    if i not in my_list: # it will check number is present in my_list or not\n",
    "        count1=0\n",
    "        for x in list1: # it iterate the number of list1\n",
    "            if i==x:  # it will check number of list1 how many times in list1\n",
    "                count1+=1\n",
    "        my_list.append(i) # here number of list are appending in my_list\n",
    "        print(\"the\",i,\"is the time in list1\",count1)"
   ]
  },
  {
   "cell_type": "code",
   "execution_count": null,
   "metadata": {},
   "outputs": [],
   "source": []
  }
 ],
 "metadata": {
  "kernelspec": {
   "display_name": "Python 3",
   "language": "python",
   "name": "python3"
  },
  "language_info": {
   "codemirror_mode": {
    "name": "ipython",
    "version": 3
   },
   "file_extension": ".py",
   "mimetype": "text/x-python",
   "name": "python",
   "nbconvert_exporter": "python",
   "pygments_lexer": "ipython3",
   "version": "3.11.6"
  }
 },
 "nbformat": 4,
 "nbformat_minor": 2
}
