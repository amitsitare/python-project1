{
 "cells": [
  {
   "cell_type": "markdown",
   "metadata": {},
   "source": [
    "Given a positive integers, find out the sum of all prime numbers from 1 up to this number."
   ]
  },
  {
   "cell_type": "code",
   "execution_count": 13,
   "metadata": {},
   "outputs": [
    {
     "name": "stdout",
     "output_type": "stream",
     "text": [
      "given number is 1 or less than 1\n"
     ]
    }
   ],
   "source": [
    "num1=int(input(\"enter positive the integr\")) # give the positive integer\n",
    "if num1>1: # it will check integer is greater than 1 or not\n",
    "  sum=0 # we take sum variable name to store the sum of prime numbers\n",
    "  for i in range(2,num1+1):\n"
    "      count1=0 # we take the count1 variable name to count\n",
    "      s=int((i**0.5)+1) # we take the square root of i \n",
    "      for x in range(2,s): # for loop run from 2 upto square root\n",
    "        if i%x==0: # it will check i devide by given for loop number\n",
    "          count1+=1 # it will count the prime number\n",
    "      \n",
    "      if count1==0: # if count1 is zero it will be prime\n",
    "         sum=sum+i # it will sum the prime number\n",
    "  print(sum)\n",
    "else:\n",
    "    print(\"given number is 1 or less than 1\")"
   ]
  },
  {
   "cell_type": "code",
   "execution_count": null,
   "metadata": {},
   "outputs": [],
   "source": []
  }
 ],
 "metadata": {
  "kernelspec": {
   "display_name": "Python 3",
   "language": "python",
   "name": "python3"
  },
  "language_info": {
   "codemirror_mode": {
    "name": "ipython",
    "version": 3
   },
   "file_extension": ".py",
   "mimetype": "text/x-python",
   "name": "python",
   "nbconvert_exporter": "python",
   "pygments_lexer": "ipython3",
   "version": "3.11.6"
  }
 },
 "nbformat": 4,
 "nbformat_minor": 2
}
