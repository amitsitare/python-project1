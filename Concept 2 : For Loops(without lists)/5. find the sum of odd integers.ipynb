{
 "cells": [
  {
   "cell_type": "markdown",
   "metadata": {},
   "source": [
    "Given a positive integer, find out the sum of all odd numbers from 1 up to this number."
   ]
  },
  {
   "cell_type": "code",
   "execution_count": 2,
   "metadata": {},
   "outputs": [
    {
     "name": "stdout",
     "output_type": "stream",
     "text": [
      "sum of odd integer= 9\n"
     ]
    }
   ],
   "source": [
    "num1=int(input(\"enter the positive integer\")) # give the positive integer\n",
    "odd_sum=0  # we take odd_sum variable name to store the odd integer\n",
    "#for loop  will start to give integer 1 after it will give leave 1 integer because we give the 2 \n",
    "# increament value in the range\n",
    "for i in range(1,num1+1,2 ):\n",
    "    odd_sum+=i  # here it will add the odd integer from one to given integer\n",
    "print(\"sum of odd integer=\",odd_sum)"
   ]
  },
  {
   "cell_type": "code",
   "execution_count": null,
   "metadata": {},
   "outputs": [],
   "source": []
  }
 ],
 "metadata": {
  "kernelspec": {
   "display_name": "Python 3",
   "language": "python",
   "name": "python3"
  },
  "language_info": {
   "codemirror_mode": {
    "name": "ipython",
    "version": 3
   },
   "file_extension": ".py",
   "mimetype": "text/x-python",
   "name": "python",
   "nbconvert_exporter": "python",
   "pygments_lexer": "ipython3",
   "version": "3.11.6"
  }
 },
 "nbformat": 4,
 "nbformat_minor": 2
}
