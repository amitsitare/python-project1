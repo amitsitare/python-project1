{
 "cells": [
  {
   "cell_type": "markdown",
   "metadata": {},
   "source": [
    "Given a list of numbers find out the mean and standard deviation."
   ]
  },
  {
   "cell_type": "code",
   "execution_count": 2,
   "metadata": {},
   "outputs": [
    {
     "name": "stdout",
     "output_type": "stream",
     "text": [
      "mean of the list1= 6.0\n",
      "standard deviation of numbers of list1= 1.4142135623730951\n"
     ]
    }
   ],
   "source": [
    "list1=[4,5,6,7,8] \n",
    "sum1=0 # take sum1 as variable name to store the sum of list1\n",
    "count1=0 # take count1 as variable name to count the numbers of list1\n",
    "for i in list1:\n",
    "    sum1+=i  # it will sum the number of list1\n",
    "    count1+=1  # it will count the number\n",
    "mean=sum1/count1  # it will give the mean of number of list1\n",
    "print(\"mean of the list1=\",mean)\n",
    "netdev=0\n",
    "for i in list1:\n",
    "    dev=(mean-i)**2\n",
    "    netdev=netdev+dev \n",
    "stdev=(netdev/count1)**0.5 # it will give the standard deviation\n",
    "print(\"standard deviation of numbers of list1=\",stdev)"
   ]
  },
  {
   "cell_type": "code",
   "execution_count": null,
   "metadata": {},
   "outputs": [],
   "source": []
  }
 ],
 "metadata": {
  "kernelspec": {
   "display_name": "Python 3",
   "language": "python",
   "name": "python3"
  },
  "language_info": {
   "codemirror_mode": {
    "name": "ipython",
    "version": 3
   },
   "file_extension": ".py",
   "mimetype": "text/x-python",
   "name": "python",
   "nbconvert_exporter": "python",
   "pygments_lexer": "ipython3",
   "version": "3.11.6"
  }
 },
 "nbformat": 4,
 "nbformat_minor": 2
}
