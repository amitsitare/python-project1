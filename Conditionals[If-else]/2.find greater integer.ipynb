{
 "cells": [
  {
   "cell_type": "markdown",
   "metadata": {},
   "source": [
    "Given two integer,find the larger one."
   ]
  },
  {
   "cell_type": "code",
   "execution_count": 2,
   "metadata": {},
   "outputs": [
    {
     "name": "stdout",
     "output_type": "stream",
     "text": [
      " b is the greater\n"
     ]
    }
   ],
   "source": [
    "a=int(input(\"Enter the first integer\"))\n",
    "b=int(input(\"Enter the second element\"))\n",
    "if a==b:   # here equal operater check both integer are eqaul or not.\n",
    "    print(\"both a and b are equal\")\n",
    "elif a>b:   #Here (>) comparision operator check which is greater\n",
    "    print( \"a is the greater\")\n",
    "else:         # if a is not greater than b then else condition print b is greater.\n",
    "    print(\" b is the greater\")"
   ]
  }
 ],
 "metadata": {
  "kernelspec": {
   "display_name": "Python 3",
   "language": "python",
   "name": "python3"
  },
  "language_info": {
   "codemirror_mode": {
    "name": "ipython",
    "version": 3
   },
   "file_extension": ".py",
   "mimetype": "text/x-python",
   "name": "python",
   "nbconvert_exporter": "python",
   "pygments_lexer": "ipython3",
   "version": "3.11.6"
  }
 },
 "nbformat": 4,
 "nbformat_minor": 2
}
