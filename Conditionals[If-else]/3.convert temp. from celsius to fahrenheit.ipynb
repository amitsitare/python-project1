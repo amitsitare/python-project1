{
 "cells": [
  {
   "cell_type": "markdown",
   "metadata": {},
   "source": [
    "3. Given a temperature in Celcius, convert it to fahrenheit using the formula F=(C*1.8)+32. if the temperature is above 90F,print\" it's hot outside\" otherwise print \"the temperature is pleasant\"."
   ]
  },
  {
   "cell_type": "code",
   "execution_count": 1,
   "metadata": {},
   "outputs": [
    {
     "name": "stdout",
     "output_type": "stream",
     "text": [
      "it's hot outside\n"
     ]
    }
   ],
   "source": [
    "C=float(input(\"enter the temperature in celsius\")) # C stand for celsius\n",
    "F=(C*1.8)+32   # this is formula for convert temp. from celcius to fahrenheit.\n",
    "if F>90:         # F stand for fahrenheit temperature.\n",
    "    print(\"it's hot outside\")\n",
    "else:\n",
    "    print(\" The temperature is pleasant\")"
   ]
  },
  {
   "cell_type": "code",
   "execution_count": null,
   "metadata": {},
   "outputs": [],
   "source": []
  }
 ],
 "metadata": {
  "kernelspec": {
   "display_name": "Python 3",
   "language": "python",
   "name": "python3"
  },
  "language_info": {
   "codemirror_mode": {
    "name": "ipython",
    "version": 3
   },
   "file_extension": ".py",
   "mimetype": "text/x-python",
   "name": "python",
   "nbconvert_exporter": "python",
   "pygments_lexer": "ipython3",
   "version": "3.11.6"
  }
 },
 "nbformat": 4,
 "nbformat_minor": 2
}
