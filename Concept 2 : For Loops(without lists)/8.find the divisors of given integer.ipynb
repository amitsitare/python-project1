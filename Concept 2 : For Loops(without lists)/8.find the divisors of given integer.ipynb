{
 "cells": [
  {
   "cell_type": "markdown",
   "metadata": {},
   "source": [
    "Given a positive integer, find all its divisors."
   ]
  },
  {
   "cell_type": "code",
   "execution_count": 1,
   "metadata": {},
   "outputs": [
    {
     "name": "stdout",
     "output_type": "stream",
     "text": [
      "divisor of integer= 1\n",
      "divisor of integer= 2\n",
      "divisor of integer= 4\n",
      "divisor of integer= 8\n"
     ]
    }
   ],
   "source": [
    "num1=int(input(\"enter the positive integer\")) # give the positive integer\n",
    "for i in range(1,num1+1):  # for loop run from 1 up to given integer\n",
    "    if num1%i==0:   # if given integer completely divisible by i then i will be divisor\n",
    "        print(\"divisor of integer=\",i)"
   ]
  },
  {
   "cell_type": "code",
   "execution_count": null,
   "metadata": {},
   "outputs": [],
   "source": []
  }
 ],
 "metadata": {
  "kernelspec": {
   "display_name": "Python 3",
   "language": "python",
   "name": "python3"
  },
  "language_info": {
   "codemirror_mode": {
    "name": "ipython",
    "version": 3
   },
   "file_extension": ".py",
   "mimetype": "text/x-python",
   "name": "python",
   "nbconvert_exporter": "python",
   "pygments_lexer": "ipython3",
   "version": "3.11.6"
  }
 },
 "nbformat": 4,
 "nbformat_minor": 2
}
