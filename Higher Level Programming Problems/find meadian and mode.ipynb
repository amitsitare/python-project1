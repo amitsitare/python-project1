{
 "cells": [
  {
   "cell_type": "markdown",
   "metadata": {},
   "source": [
    "Given a list of numbers, find out the median and mode."
   ]
  },
  {
   "cell_type": "code",
   "execution_count": 16,
   "metadata": {},
   "outputs": [
    {
     "name": "stdout",
     "output_type": "stream",
     "text": [
      "meadian of list= 3.0\n",
      "mode of the list1= [2, 3]\n"
     ]
    }
   ],
   "source": [
    "# given a list with numbers\n",
    "list1=[2,5,6,8,3,6,3,2,3,2,-2,-7,4.5,-6]\n",
    "# arrenge the list in ascendinng order\n",
    "for i in range(len(list1)):\n",
    "    for j in range(i+1,len(list1)):\n",
    "        if list1[i]>list1[j]:\n",
    "            be_num=list1[i]\n",
    "            list1[i]=list1[j]\n",
    "            list1[j]=be_num\n",
    "# now calculate the meadian\n",
    "a=len(list1)\n",
    "if a%2==0: # if length is even then meadian will be sum of middle two number divide by two\n",
    "    median=(list1[int(a/2)]/2+list1[int((a-1)/2)]/2) \n",
    "else:  # if lenth is odd then median will be middle number of list\n",
    "    median=(list1[int(a/2)])\n",
    "print(\"meadian of list=\", median)\n",
    "# now store the number as  key and how many times it occur in a list as value in list \n",
    "dict1={}\n",
    "for i in list1:\n",
    "    count1=0\n",
    "    for j in list1:\n",
    "        if i==j:\n",
    "            count1+=1\n",
    "    dict1[i]=count1\n",
    "# now we find the mode means which number is occur most time in list\n",
    "max_val=0\n",
    "for i in dict1.values(): # it iterate the value of dictionary\n",
    "    if max_val<i:\n",
    "       max_val=i # here it will store the maximum value\n",
    "mode1=[] # here take empty list to store the mode\n",
    "for key,value in dict1.items(): # it iterate the both key value of dictonary\n",
    "    if value==max_val:\n",
    "        mode1.append(key) \n",
    "print(\"mode of the list1=\",mode1)\n",
    "    \n"
   ]
  },
  {
   "cell_type": "code",
   "execution_count": null,
   "metadata": {},
   "outputs": [],
   "source": []
  }
 ],
 "metadata": {
  "kernelspec": {
   "display_name": "Python 3",
   "language": "python",
   "name": "python3"
  },
  "language_info": {
   "codemirror_mode": {
    "name": "ipython",
    "version": 3
   },
   "file_extension": ".py",
   "mimetype": "text/x-python",
   "name": "python",
   "nbconvert_exporter": "python",
   "pygments_lexer": "ipython3",
   "version": "3.11.6"
  }
 },
 "nbformat": 4,
 "nbformat_minor": 2
}
