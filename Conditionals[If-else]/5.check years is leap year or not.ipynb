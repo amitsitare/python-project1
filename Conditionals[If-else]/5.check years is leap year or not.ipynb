{
 "cells": [
  {
   "cell_type": "markdown",
   "metadata": {},
   "source": [
    "5. Given a year, check if it is a leap year or not. A leap year is divisible by 4,except for years that are divisible by 100. However, years that are divisible by 400 also leap years."
   ]
  },
  {
   "cell_type": "code",
   "execution_count": 5,
   "metadata": {},
   "outputs": [
    {
     "name": "stdout",
     "output_type": "stream",
     "text": [
      "year is leap year\n"
     ]
    }
   ],
   "source": [
    "year=int(input(\"enter the year\"))   # we will give any year\n",
    "if year%4==0 and year%100!=0:   # here it will check if year divisible by 4 but not \n",
    "    print(\"year is leap year\")   #divisible by 100 then it is leap year\n",
    "elif year%400==0:         # here, if year is also divisible by 400 then it will be a leap year\n",
    "    print(\"year is leap year\")\n",
    "else:\n",
    "    print(\"year is not a leap yaer\")   "
   ]
  },
  {
   "cell_type": "code",
   "execution_count": null,
   "metadata": {},
   "outputs": [],
   "source": []
  },
  {
   "cell_type": "code",
   "execution_count": null,
   "metadata": {},
   "outputs": [],
   "source": []
  }
 ],
 "metadata": {
  "kernelspec": {
   "display_name": "Python 3",
   "language": "python",
   "name": "python3"
  },
  "language_info": {
   "codemirror_mode": {
    "name": "ipython",
    "version": 3
   },
   "file_extension": ".py",
   "mimetype": "text/x-python",
   "name": "python",
   "nbconvert_exporter": "python",
   "pygments_lexer": "ipython3",
   "version": "3.11.6"
  }
 },
 "nbformat": 4,
 "nbformat_minor": 2
}
