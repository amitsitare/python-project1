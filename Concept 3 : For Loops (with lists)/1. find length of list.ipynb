{
 "cells": [
  {
   "cell_type": "markdown",
   "metadata": {},
   "source": [
    "Given a list of numbers, find out its length"
   ]
  },
  {
   "cell_type": "code",
   "execution_count": 1,
   "metadata": {},
   "outputs": [
    {
     "name": "stdout",
     "output_type": "stream",
     "text": [
      "length of mylist= 6\n"
     ]
    }
   ],
   "source": [
    "mylist=[3,2,5,4,6,7] # we give the list with numbers\n",
    "len_mylist=0 # we take len_mylist as variable name to store the length of list\n",
    "for i in mylist:  # for loop give the list number one by one\n",
    "    len_mylist+=1  # here it add 1 when number is present in list\n",
    "print(\"length of mylist=\",len_mylist)"
   ]
  },
  {
   "cell_type": "code",
   "execution_count": null,
   "metadata": {},
   "outputs": [],
   "source": []
  }
 ],
 "metadata": {
  "kernelspec": {
   "display_name": "Python 3",
   "language": "python",
   "name": "python3"
  },
  "language_info": {
   "codemirror_mode": {
    "name": "ipython",
    "version": 3
   },
   "file_extension": ".py",
   "mimetype": "text/x-python",
   "name": "python",
   "nbconvert_exporter": "python",
   "pygments_lexer": "ipython3",
   "version": "3.11.6"
  }
 },
 "nbformat": 4,
 "nbformat_minor": 2
}
