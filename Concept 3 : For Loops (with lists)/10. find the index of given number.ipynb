{
 "cells": [
  {
   "cell_type": "markdown",
   "metadata": {},
   "source": [
    "Given a list of number, find out the index of another given number"
   ]
  },
  {
   "cell_type": "code",
   "execution_count": 7,
   "metadata": {},
   "outputs": [
    {
     "name": "stdout",
     "output_type": "stream",
     "text": [
      "index of number 4\n"
     ]
    }
   ],
   "source": [
    "num=int(input(\"enter the number\")) # we give the number which we find the index\n",
    "lst=[3,4,5,6,7,1] # we take the lst as list with numbers\n",
    "if num in lst:\n",
    "   count1=0  # we take the count1 variable name to count the index of given number\n",
    "   for i in lst: # it give the numbers of lst one by one\n",
    "     if i==num: # it will check  given number is equal to given number or not\n",
    "        print(\"index of number\",count1) # if given number is equal to a number of lst it will print that index\n",
    "     count1+=1 # if number is not equal than count1 will increase by 1\n",
    "else:\n",
    "    print(\"number is not in list\")"
   ]
  },
  {
   "cell_type": "code",
   "execution_count": null,
   "metadata": {},
   "outputs": [],
   "source": []
  },
  {
   "cell_type": "code",
   "execution_count": null,
   "metadata": {},
   "outputs": [],
   "source": []
  }
 ],
 "metadata": {
  "kernelspec": {
   "display_name": "Python 3",
   "language": "python",
   "name": "python3"
  },
  "language_info": {
   "codemirror_mode": {
    "name": "ipython",
    "version": 3
   },
   "file_extension": ".py",
   "mimetype": "text/x-python",
   "name": "python",
   "nbconvert_exporter": "python",
   "pygments_lexer": "ipython3",
   "version": "3.11.6"
  }
 },
 "nbformat": 4,
 "nbformat_minor": 2
}
