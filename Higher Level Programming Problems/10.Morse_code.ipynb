{
 "cells": [
  {
   "cell_type": "markdown",
   "metadata": {},
   "source": [
    "# Create a Morse code translator"
   ]
  },
  {
   "cell_type": "code",
   "execution_count": 8,
   "metadata": {},
   "outputs": [],
   "source": [
    "# first we creat a morce_dict as variable name dictionary\n",
    "morse_dict={'A':'.-', 'B':'-...', 'C':'-.-.', 'D':'-..', 'E':'.', 'F':'..-.',\n",
    "            'G':'--.', 'H':'....', 'I':'..', 'J':'.---', 'K':'-.-', 'L':'.-..',\n",
    "            'M':'--', 'N':'-.', 'O':'---', 'P':'.--.', 'Q':'--.-', 'R':'.-.', \n",
    "            'S':'...', 'T':'-', 'U':'..-', 'V':'...-', 'W':'.--', 'X':'-..-', \n",
    "            'Y':'-.--', 'Z':'--..', '1':'.----', '2':'..---', '3':'...--', \n",
    "            '4':'....-', '5':'.....', '6':'-....', '7':'--...', '8':'---..', \n",
    "            '9':'----.', '0':'-----', ', ':'--..--', '.':'.-.-.-', '?':'..--..',\n",
    "             '/':'-..-.', '-':'-....-', '(':'-.--.', ')':'-.--.-'}\n",
    "\n",
    "# this code for change string into morse code\n",
    "def morse_encrypt(string1):   \n",
    "    string1=string1.upper()\n",
    "    code1=''\n",
    "    # morse_dict taken from the google  to easily express\n",
    "    for i in string1:\n",
    "            if i!=' ':\n",
    "                code1+=(morse_dict[i]+' ')\n",
    "            else:\n",
    "                code1+='/ '  #it is use to denote space       \n",
    "    return code1\n",
    "\n",
    "# this code change morse code into string\n",
    "def morce_decrypt(code):\n",
    "\n",
    "    code_list=code.split()\n",
    "    string2=''\n",
    "    code_dict={} #code_dict is use to store sweping of key and value for easy to exess \n",
    "    # we need to swep key, values for decode\n",
    "    for key,value in morse_dict.items():\n",
    "        key,value=key,value,\n",
    "        code_dict[value]=key\n",
    "    \n",
    "    for i in code_list:\n",
    "        if i=='/':     # '/' is the sign of space\n",
    "            string2+=' '\n",
    "        else:\n",
    "            string2+=code_dict[i]  # here we execess value from the key  \n",
    "    return string2"
   ]
  },
  {
   "cell_type": "code",
   "execution_count": 9,
   "metadata": {},
   "outputs": [
    {
     "data": {
      "text/plain": [
       "'.... . .-.. .-.. --- / .-- --- .-. .-.. -.. '"
      ]
     },
     "execution_count": 9,
     "metadata": {},
     "output_type": "execute_result"
    }
   ],
   "source": [
    "morse_encrypt(\"Hello world\")"
   ]
  },
  {
   "cell_type": "code",
   "execution_count": 10,
   "metadata": {},
   "outputs": [
    {
     "data": {
      "text/plain": [
       "'HELLO WORLD'"
      ]
     },
     "execution_count": 10,
     "metadata": {},
     "output_type": "execute_result"
    }
   ],
   "source": [
    "morce_decrypt('.... . .-.. .-.. --- / .-- --- .-. .-.. -..')"
   ]
  },
  {
   "cell_type": "code",
   "execution_count": null,
   "metadata": {},
   "outputs": [],
   "source": []
  }
 ],
 "metadata": {
  "kernelspec": {
   "display_name": "Python 3",
   "language": "python",
   "name": "python3"
  },
  "language_info": {
   "codemirror_mode": {
    "name": "ipython",
    "version": 3
   },
   "file_extension": ".py",
   "mimetype": "text/x-python",
   "name": "python",
   "nbconvert_exporter": "python",
   "pygments_lexer": "ipython3",
   "version": "3.11.6"
  }
 },
 "nbformat": 4,
 "nbformat_minor": 2
}
