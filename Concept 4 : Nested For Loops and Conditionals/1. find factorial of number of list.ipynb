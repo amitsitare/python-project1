{
 "cells": [
  {
   "cell_type": "markdown",
   "metadata": {},
   "source": [
    "Given a list of positive integers, find the factorial of all the numbers."
   ]
  },
  {
   "cell_type": "code",
   "execution_count": 8,
   "metadata": {},
   "outputs": [
    {
     "name": "stdout",
     "output_type": "stream",
     "text": [
      "factorial of 3 = 6\n",
      "factorial of 2 = 2\n",
      "factorial of 4 = 24\n",
      "factorial of 5 = 120\n",
      "factorial of 1 = 1\n",
      "factorial of 0 = 1\n",
      "factorial of 6 = 720\n"
     ]
    }
   ],
   "source": [
    "list1=[3,2,4,5,1,0,6] # we give the list with numbers\n",
    "for i in list1: # for loop give the numbers of list1 one by one\n",
    "    if i==0 or i==1: # if number is one or zero then factorial will be 1\n",
    "        print(\"factorial of\",i,\"=\",1)\n",
    "    else:\n",
    "       fact=1 # we take fact as variable name to store the factorial\n",
    "       for x in range(2,i+1): # for loop run from 2 upto number of list1\n",
    "          fact=fact*x  # it will give the factorial\n",
    "       print(\"factorial of\",i, \"=\",fact)"
   ]
  },
  {
   "cell_type": "code",
   "execution_count": null,
   "metadata": {},
   "outputs": [],
   "source": []
  }
 ],
 "metadata": {
  "kernelspec": {
   "display_name": "Python 3",
   "language": "python",
   "name": "python3"
  },
  "language_info": {
   "codemirror_mode": {
    "name": "ipython",
    "version": 3
   },
   "file_extension": ".py",
   "mimetype": "text/x-python",
   "name": "python",
   "nbconvert_exporter": "python",
   "pygments_lexer": "ipython3",
   "version": "3.11.6"
  }
 },
 "nbformat": 4,
 "nbformat_minor": 2
}
