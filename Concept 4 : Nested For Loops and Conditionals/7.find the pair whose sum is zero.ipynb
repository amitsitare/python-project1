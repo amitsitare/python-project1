{
 "cells": [
  {
   "cell_type": "markdown",
   "metadata": {},
   "source": [
    "Given a list of integers, find all pairs of integers in the list whose sum is zero."
   ]
  },
  {
   "cell_type": "code",
   "execution_count": 3,
   "metadata": {},
   "outputs": [
    {
     "name": "stdout",
     "output_type": "stream",
     "text": [
      "[[3, -3], [3, -3], [-3, 3], [-3, 3], [-6, 6], [6, -6]]\n"
     ]
    }
   ],
   "source": [
    "list1 = [5, 3, 4, -3, 5, -3, -6, 7,6]\n",
    "pair_list=[] #take empty list to strore the pair whose sum is zero\n",
    "for i in list1:\n",
    "    for j in list1:\n",
    "        if i+j == 0: # Check if the pair's sum is zero\n",
    "                pair_list.append([i, j])\n",
    "print(pair_list)"
   ]
  },
  {
   "cell_type": "code",
   "execution_count": null,
   "metadata": {},
   "outputs": [],
   "source": []
  }
 ],
 "metadata": {
  "kernelspec": {
   "display_name": "Python 3",
   "language": "python",
   "name": "python3"
  },
  "language_info": {
   "codemirror_mode": {
    "name": "ipython",
    "version": 3
   },
   "file_extension": ".py",
   "mimetype": "text/x-python",
   "name": "python",
   "nbconvert_exporter": "python",
   "pygments_lexer": "ipython3",
   "version": "3.11.6"
  }
 },
 "nbformat": 4,
 "nbformat_minor": 2
}
