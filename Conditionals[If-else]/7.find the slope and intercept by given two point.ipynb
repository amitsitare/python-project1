{
 "cells": [
  {
   "cell_type": "markdown",
   "metadata": {},
   "source": [
    "Given two points (x1, y1) and (x2, y2), find the slope and intercept of the line joining these two points (the line may be perfectly horizontal or vertical)."
   ]
  },
  {
   "cell_type": "code",
   "execution_count": 1,
   "metadata": {},
   "outputs": [
    {
     "name": "stdout",
     "output_type": "stream",
     "text": [
      "slope of line= 1.0\n",
      "intercept of the y intercept= 2.0\n"
     ]
    }
   ],
   "source": [
    "# given to points (x1,y1),(x2,y2)\n",
    "x1=float(input(\"enter the x coordinate of first point\")) \n",
    "y1=float(input(\"enter the y coordinate of first point\"))\n",
    "x2=float(input(\"enter the x coordinate of second point\"))\n",
    "y2=float(input(\"enter the y coordinate of second point\"))\n",
    "if (x2-x1)==0: # if x2-x1 is zero then slope will be undefined\n",
    "    print(\"slope is undefined\")\n",
    "else:\n",
    "    m=(y2-y1)/(x2-x1)  # it is the formula to calculate the slope\n",
    "    print(\"slope of line=\",m)\n",
    "    c=y1-(m*x1)  #it is to calculate the intercept\n",
    "    print(\"intercept of the y intercept=\",c)\n"
   ]
  },
  {
   "cell_type": "code",
   "execution_count": null,
   "metadata": {},
   "outputs": [],
   "source": []
  }
 ],
 "metadata": {
  "kernelspec": {
   "display_name": "Python 3",
   "language": "python",
   "name": "python3"
  },
  "language_info": {
   "codemirror_mode": {
    "name": "ipython",
    "version": 3
   },
   "file_extension": ".py",
   "mimetype": "text/x-python",
   "name": "python",
   "nbconvert_exporter": "python",
   "pygments_lexer": "ipython3",
   "version": "3.11.6"
  }
 },
 "nbformat": 4,
 "nbformat_minor": 2
}
