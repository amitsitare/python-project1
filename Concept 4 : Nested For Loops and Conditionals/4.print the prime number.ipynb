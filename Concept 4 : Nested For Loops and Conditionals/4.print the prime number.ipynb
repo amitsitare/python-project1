{
 "cells": [
  {
   "cell_type": "markdown",
   "metadata": {},
   "source": [
    "Given a positive integer, find out all prime numbers from 1 up to this number."
   ]
  },
  {
   "cell_type": "code",
   "execution_count": 3,
   "metadata": {},
   "outputs": [
    {
     "name": "stdout",
     "output_type": "stream",
     "text": [
      "2\n",
      "3\n",
      "5\n"
     ]
    }
   ],
   "source": [
    "num1=int(input(\"enter positive the integr\")) \n",
    "if num1>1: # it will check number is greater than 1 or not\n",
    " for i in range(2,num1+1):\n",
    "      count1=0 # we take count1 variable name to count\n",
    "      s=int((i**0.5)+1) # take the square root of i\n",
    "      for x in range(2,s):\n",
    "        if i%x==0: # it will check i divide by x or not\n",
    "            count1+=1\n",
    "      if count1==0: # if count1 is zero than i will be prime\n",
    "        print(i)\n",
    "else:\n",
    "    print(\"given number is 1 or less than 1\")\n",
    "    \n",
    "       \n",
    "\n"
   ]
  },
  {
   "cell_type": "code",
   "execution_count": null,
   "metadata": {},
   "outputs": [],
   "source": []
  },
  {
   "cell_type": "code",
   "execution_count": null,
   "metadata": {},
   "outputs": [],
   "source": []
  }
 ],
 "metadata": {
  "kernelspec": {
   "display_name": "Python 3",
   "language": "python",
   "name": "python3"
  },
  "language_info": {
   "codemirror_mode": {
    "name": "ipython",
    "version": 3
   },
   "file_extension": ".py",
   "mimetype": "text/x-python",
   "name": "python",
   "nbconvert_exporter": "python",
   "pygments_lexer": "ipython3",
   "version": "3.11.6"
  }
 },
 "nbformat": 4,
 "nbformat_minor": 2
}
