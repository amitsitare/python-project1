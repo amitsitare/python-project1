{
 "cells": [
  {
   "cell_type": "markdown",
   "metadata": {},
   "source": [
    "Merge these two dictionaries into one using for loop\n",
    "dict1 = {‘Ten’: 10, ‘Twenty’: 20, ‘Thirty’: 30}\n",
    "dict2 = {‘Thirty’: 30, ‘Fourty’: 40, ‘Fifty’: 50}"
   ]
  },
  {
   "cell_type": "code",
   "execution_count": 1,
   "metadata": {},
   "outputs": [
    {
     "name": "stdout",
     "output_type": "stream",
     "text": [
      "{'Ten': 10, 'Thirty': 30, 'Forty': 40, 'Fifty': 50, 'Twenty': 20}\n"
     ]
    }
   ],
   "source": [
    "dict1 = {'Ten': 10, 'Twenty': 20, 'Thirty': 30}\n",
    "dict2 = {'Thirty': 30, 'Forty': 40, 'Fifty': 50}\n",
    "dict3 = {} # we take dict3 as variable name  dictionary to merge dictionary\n",
    "for key, value in dict1.items(): # it will give the key, value of dict1\n",
    "    dict3[key]=value #  here key, values will be merge in dict3\n",
    "    for key, value in dict2.items(): # it will give the key, value of dict2\n",
    "        if key not in dict1.items(): # it will check key of dict1 not in dict2\n",
    "            dict3[key] = value #here key, values will be merge in dict3\n",
    "print(dict3)   "
   ]
  }
 ],
 "metadata": {
  "kernelspec": {
   "display_name": "Python 3",
   "language": "python",
   "name": "python3"
  },
  "language_info": {
   "codemirror_mode": {
    "name": "ipython",
    "version": 3
   },
   "file_extension": ".py",
   "mimetype": "text/x-python",
   "name": "python",
   "nbconvert_exporter": "python",
   "pygments_lexer": "ipython3",
   "version": "3.11.6"
  }
 },
 "nbformat": 4,
 "nbformat_minor": 2
}
