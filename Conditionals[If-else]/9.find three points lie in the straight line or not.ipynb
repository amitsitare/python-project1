{
 "cells": [
  {
   "cell_type": "markdown",
   "metadata": {},
   "source": [
    "Given three points, find out whether they lie on the same \n",
    "stright line or not.\n"
   ]
  },
  {
   "cell_type": "code",
   "execution_count": 1,
   "metadata": {},
   "outputs": [
    {
     "name": "stdout",
     "output_type": "stream",
     "text": [
      "points lie on the same stright line\n"
     ]
    }
   ],
   "source": [
    "# it is given three points (x1,y1),(x2,y2),(x3,y3)\n",
    "x1=float(input(\"enter the x coordinate of first point\"))\n",
    "y1=float(input(\"enter the y coordinate of first point\"))\n",
    "x2=float(input(\"enter the x coordinate of second point\"))\n",
    "y2=float(input(\"enter the y coordinate of second point\"))\n",
    "x3=float(input(\"enter the x coordinate of third point\"))\n",
    "y3=float(input(\"enter the y coordinate of third point\"))\n",
    "area=(1/2)*(x1*(y2-y3)+x2*(y3-y1)+x3*(y1-y2)) # Here it is calculate the area of the points\n",
    "if area==0:  # if area is zero then points lies on the same straight line.\n",
    "    print(\"points lie on the same stright line\")\n",
    "else:     #if area is not zero then ponits do not lie on the straight line.\n",
    "    print(\"points do not lie on the same stright line\")\n"
   ]
  },
  {
   "cell_type": "code",
   "execution_count": null,
   "metadata": {},
   "outputs": [],
   "source": []
  }
 ],
 "metadata": {
  "kernelspec": {
   "display_name": "Python 3",
   "language": "python",
   "name": "python3"
  },
  "language_info": {
   "codemirror_mode": {
    "name": "ipython",
    "version": 3
   },
   "file_extension": ".py",
   "mimetype": "text/x-python",
   "name": "python",
   "nbconvert_exporter": "python",
   "pygments_lexer": "ipython3",
   "version": "3.11.6"
  }
 },
 "nbformat": 4,
 "nbformat_minor": 2
}
