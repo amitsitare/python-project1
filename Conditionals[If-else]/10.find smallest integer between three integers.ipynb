{
 "cells": [
  {
   "cell_type": "markdown",
   "metadata": {},
   "source": [
    "Given three integers, find the smallest one."
   ]
  },
  {
   "cell_type": "code",
   "execution_count": 1,
   "metadata": {},
   "outputs": [
    {
     "name": "stdout",
     "output_type": "stream",
     "text": [
      "smallest integer is 1\n"
     ]
    }
   ],
   "source": [
    "num1=int(input(\"enter the first integer\"))\n",
    "num2=int(input(\"enter the second integer\"))\n",
    "num3=int(input(\"enter the third integer\"))\n",
    "if num1<num2:  # if num1 is less then num2 then it will go inside at if condition\n",
    "    if num1<num3: # if it is condition is true then it print the num1 is smallest.\n",
    "        print(\"smallest integer is\",num1)\n",
    "    else:  #if above condition is false then it will print the num3 is smallest.\n",
    "        print(\"smallest integer is\",num3)\n",
    "elif num2<num3:  # if above condtion of if false then this condition run.\n",
    "    print(\"smallest integer is\",num2)\n",
    "else:    #if above condition of elif false then it will print the num3 is the smallest.\n",
    "    print(\"smallest integer is\",num3)\n",
    "\n"
   ]
  },
  {
   "cell_type": "code",
   "execution_count": null,
   "metadata": {},
   "outputs": [],
   "source": []
  }
 ],
 "metadata": {
  "kernelspec": {
   "display_name": "Python 3",
   "language": "python",
   "name": "python3"
  },
  "language_info": {
   "codemirror_mode": {
    "name": "ipython",
    "version": 3
   },
   "file_extension": ".py",
   "mimetype": "text/x-python",
   "name": "python",
   "nbconvert_exporter": "python",
   "pygments_lexer": "ipython3",
   "version": "3.11.6"
  }
 },
 "nbformat": 4,
 "nbformat_minor": 2
}
