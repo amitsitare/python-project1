{
 "cells": [
  {
   "cell_type": "markdown",
   "metadata": {},
   "source": [
    "Given a positive integer, find out the sum of all even numbers from 2 up to this number."
   ]
  },
  {
   "cell_type": "code",
   "execution_count": 1,
   "metadata": {},
   "outputs": [
    {
     "name": "stdout",
     "output_type": "stream",
     "text": [
      "total sum of even integer= 6\n"
     ]
    }
   ],
   "source": [
    "num1=int(input(\"enter the positive integer\")) # give the positive integer\n",
    "even_sum=0  # we take the even_sum as variable name to store the sum of even integer\n",
    "for i in range(1,num1+1): # for loop run from 1 up to given integer\n",
    "    if i%2==0: # if integer is completely divide by 2 it will be even integer\n",
    "        even_sum+=i  # here it will add the even integer\n",
    "print(\"total sum of even integer=\",even_sum)\n"
   ]
  },
  {
   "cell_type": "markdown",
   "metadata": {},
   "source": []
  }
 ],
 "metadata": {
  "kernelspec": {
   "display_name": "Python 3",
   "language": "python",
   "name": "python3"
  },
  "language_info": {
   "codemirror_mode": {
    "name": "ipython",
    "version": 3
   },
   "file_extension": ".py",
   "mimetype": "text/x-python",
   "name": "python",
   "nbconvert_exporter": "python",
   "pygments_lexer": "ipython3",
   "version": "3.11.6"
  }
 },
 "nbformat": 4,
 "nbformat_minor": 2
}
