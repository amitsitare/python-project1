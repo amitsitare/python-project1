{
 "cells": [
  {
   "cell_type": "markdown",
   "metadata": {},
   "source": [
    "Given a point(x1,x2), find the quadrant in which this point lies.\n"
   ]
  },
  {
   "cell_type": "code",
   "execution_count": 3,
   "metadata": {},
   "outputs": [
    {
     "name": "stdout",
     "output_type": "stream",
     "text": [
      "point does not lie in any quadrant\n"
     ]
    }
   ],
   "source": [
    "#point=(x1,x2)\n",
    "x1=float(input(\"enter the value\")) # enter the first number of point\n",
    "x2=float(input(\"enter the value\"))  # enter the second number of point\n",
    "if x1>0 and x2>0:   # if x1 and x2 both number are greater than zero then point lies in first quadarnt\n",
    "    print(\"point lies in the first quadrant\")\n",
    "elif x1<0 and x2>0:  # if only x1 is less than zero point will lies second quadarnt. \n",
    "    print(\"point lies in the second quadrant\")\n",
    "elif x1<0 and x2<0: #if x1 and x2 both less than zero point will lies in third quadarnt. \n",
    "    print(\"point lies in the third quadrant\")\n",
    "elif x1>0 and x2<0: # if only x2 is less than zero point will lies in the fourth quadarnt\n",
    "    print(\"point lies in the fourth quadrant\")\n",
    "else:     # if all above coditions are false then ponit will not lies any quadarnt.\n",
    "    print(\"point does not lie in any quadrant\")\n"
   ]
  },
  {
   "cell_type": "code",
   "execution_count": null,
   "metadata": {},
   "outputs": [],
   "source": []
  }
 ],
 "metadata": {
  "kernelspec": {
   "display_name": "Python 3",
   "language": "python",
   "name": "python3"
  },
  "language_info": {
   "codemirror_mode": {
    "name": "ipython",
    "version": 3
   },
   "file_extension": ".py",
   "mimetype": "text/x-python",
   "name": "python",
   "nbconvert_exporter": "python",
   "pygments_lexer": "ipython3",
   "version": "3.11.6"
  }
 },
 "nbformat": 4,
 "nbformat_minor": 2
}
