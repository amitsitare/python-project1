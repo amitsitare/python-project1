{
 "cells": [
  {
   "cell_type": "markdown",
   "metadata": {},
   "source": [
    "Create a dictionary to store the total marks of 5 students in the class in 3 subjects (Course1, Course2, Course3). The keys must be the student names, and the values must be the list of marks. Create another list which has the course names in the same order as the marks are stored in the dictionary values. Now write a nested for loop to print the marks for each student exam wise.\n",
    "Student1\n",
    "Course1 marks : 82\n",
    "Course2 marks : 84\n",
    "Course3 marks : 72\n",
    "Student2\n",
    "Course1 marks : 87\n",
    "Course2 marks : 83\n",
    "Course3 marks : 78"
   ]
  },
  {
   "cell_type": "code",
   "execution_count": 3,
   "metadata": {},
   "outputs": [
    {
     "name": "stdout",
     "output_type": "stream",
     "text": [
      "{'Amit': [57, 69, 70], 'Sumit': [67, 89, 74], 'Akash': [87, 89, 90], 'Sandeep': [77, 99, 78], 'Rohit': [97, 79, 73]}\n",
      "Amit\n",
      "Physics : 57\n",
      "Mathematics : 69\n",
      "Chemitry : 70\n",
      "\n",
      "\n",
      "Sumit\n",
      "Physics : 67\n",
      "Mathematics : 89\n",
      "Chemitry : 74\n",
      "\n",
      "\n",
      "Akash\n",
      "Physics : 87\n",
      "Mathematics : 89\n",
      "Chemitry : 90\n",
      "\n",
      "\n",
      "Sandeep\n",
      "Physics : 77\n",
      "Mathematics : 99\n",
      "Chemitry : 78\n",
      "\n",
      "\n",
      "Rohit\n",
      "Physics : 97\n",
      "Mathematics : 79\n",
      "Chemitry : 73\n",
      "\n",
      "\n"
     ]
    }
   ],
   "source": [
    "my_dict={}\n",
    "my_dict[\"Amit\"]=[57,69,70]\n",
    "my_dict[\"Sumit\"]=[67,89,74]\n",
    "my_dict[\"Akash\"]=[87,89,90]\n",
    "my_dict[\"Sandeep\"]=[77,99,78]\n",
    "my_dict[\"Rohit\"]=[97,79,73]\n",
    "course_dict=[\"Physics\",\"Mathematics\",\"Chemitry\"]\n",
    "print(my_dict) # we create a dictionary as my_dict variable name of 5 students with their marks in three subjects\n",
    "for key,value in my_dict.items(): # for iterate the key and value of my_dict\n",
    "    print(key)\n",
    "    for i in range(len(course_dict)):\n",
    "        print(course_dict[i],\":\",value[i]) # it will print the students marks with exam wise\n",
    "    print(\"\\n\") # it will give seperation when one students complet his marks exam wise"
   ]
  },
  {
   "cell_type": "code",
   "execution_count": null,
   "metadata": {},
   "outputs": [],
   "source": []
  }
 ],
 "metadata": {
  "kernelspec": {
   "display_name": "Python 3",
   "language": "python",
   "name": "python3"
  },
  "language_info": {
   "codemirror_mode": {
    "name": "ipython",
    "version": 3
   },
   "file_extension": ".py",
   "mimetype": "text/x-python",
   "name": "python",
   "nbconvert_exporter": "python",
   "pygments_lexer": "ipython3",
   "version": "3.11.6"
  }
 },
 "nbformat": 4,
 "nbformat_minor": 2
}
