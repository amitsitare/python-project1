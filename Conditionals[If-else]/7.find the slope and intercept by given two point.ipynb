{
 "cells": [
  {
   "cell_type": "markdown",
   "metadata": {},
   "source": [
    "Given two points (x1, y1) and (x2, y2), find the slope and intercept of the line joining these two points (the line may be perfectly horizontal or vertical)."
   ]
  },
  {
   "cell_type": "code",
   "execution_count": 3,
   "metadata": {},
   "outputs": [
    {
     "name": "stdout",
     "output_type": "stream",
     "text": [
      "slope is undefined\n"
     ]
    },
    {
     "ename": "NameError",
     "evalue": "name 'm' is not defined",
     "output_type": "error",
     "traceback": [
      "\u001b[1;31m---------------------------------------------------------------------------\u001b[0m",
      "\u001b[1;31mNameError\u001b[0m                                 Traceback (most recent call last)",
      "\u001b[1;32mc:\\Users\\dell\\Desktop\\github\\7.find the slope and intercept by given two point.ipynb Cell 2\u001b[0m line \u001b[0;36m1\n\u001b[0;32m     <a href='vscode-notebook-cell:/c%3A/Users/dell/Desktop/github/7.find%20the%20slope%20and%20intercept%20by%20given%20two%20point.ipynb#W1sZmlsZQ%3D%3D?line=9'>10</a>\u001b[0m     m\u001b[39m=\u001b[39m(y2\u001b[39m-\u001b[39my1)\u001b[39m/\u001b[39m(x2\u001b[39m-\u001b[39mx1) \n\u001b[0;32m     <a href='vscode-notebook-cell:/c%3A/Users/dell/Desktop/github/7.find%20the%20slope%20and%20intercept%20by%20given%20two%20point.ipynb#W1sZmlsZQ%3D%3D?line=10'>11</a>\u001b[0m     \u001b[39mprint\u001b[39m(\u001b[39m\"\u001b[39m\u001b[39mslope of line=\u001b[39m\u001b[39m\"\u001b[39m,m)\n\u001b[1;32m---> <a href='vscode-notebook-cell:/c%3A/Users/dell/Desktop/github/7.find%20the%20slope%20and%20intercept%20by%20given%20two%20point.ipynb#W1sZmlsZQ%3D%3D?line=11'>12</a>\u001b[0m c\u001b[39m=\u001b[39my1\u001b[39m-\u001b[39m(m\u001b[39m*\u001b[39mx1)  \u001b[39m#it is to calculate the intercept\u001b[39;00m\n\u001b[0;32m     <a href='vscode-notebook-cell:/c%3A/Users/dell/Desktop/github/7.find%20the%20slope%20and%20intercept%20by%20given%20two%20point.ipynb#W1sZmlsZQ%3D%3D?line=12'>13</a>\u001b[0m \u001b[39mprint\u001b[39m(\u001b[39m\"\u001b[39m\u001b[39mintercept of the y intercept=\u001b[39m\u001b[39m\"\u001b[39m,c)\n",
      "\u001b[1;31mNameError\u001b[0m: name 'm' is not defined"
     ]
    }
   ],
   "source": [
    "# given to points (x1,y1),(x2,y2)\n",
    "x1=float(input(\"enter the value\")) \n",
    "y1=float(input(\"enter the value\"))\n",
    "x2=float(input(\"enter the value\"))\n",
    "y2=float(input(\"enter the value\"))\n",
    "  # it is the formula to calculate the slope\n",
    "if (x2-x1)==0:\n",
    "    print(\"slope is undefined\")\n",
    "else:\n",
    "    m=(y2-y1)/(x2-x1) \n",
    "    print(\"slope of line=\",m)\n",
    "c=y1-(m*x1)  #it is to calculate the intercept\n",
    "print(\"intercept of the y intercept=\",c)\n"
   ]
  },
  {
   "cell_type": "code",
   "execution_count": null,
   "metadata": {},
   "outputs": [],
   "source": []
  }
 ],
 "metadata": {
  "kernelspec": {
   "display_name": "Python 3",
   "language": "python",
   "name": "python3"
  },
  "language_info": {
   "codemirror_mode": {
    "name": "ipython",
    "version": 3
   },
   "file_extension": ".py",
   "mimetype": "text/x-python",
   "name": "python",
   "nbconvert_exporter": "python",
   "pygments_lexer": "ipython3",
   "version": "3.11.6"
  }
 },
 "nbformat": 4,
 "nbformat_minor": 2
}
