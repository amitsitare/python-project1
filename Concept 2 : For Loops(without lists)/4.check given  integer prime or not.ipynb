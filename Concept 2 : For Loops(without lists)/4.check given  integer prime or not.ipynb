{
 "cells": [
  {
   "cell_type": "markdown",
   "metadata": {},
   "source": [
    "Given a positive integer, find out if it’s prime or not."
   ]
  },
  {
   "cell_type": "code",
   "execution_count": 13,
   "metadata": {},
   "outputs": [
    {
     "name": "stdout",
     "output_type": "stream",
     "text": [
      "integer s not prime\n"
     ]
    }
   ],
   "source": [
    "num1=int(input(\"enter positive the integer\")) # give the positive integer\n",
    "sq_num1=int(num1**0.5+1) #take the suare root of given integer\n",
    "count_num1=0  # take the variable name to count\n",
    "if num1>1:  # integer will be greater than 1\n",
    "    for i in range(2,sq_num1):   # for loop run from 2 upto square root of integer\n",
    "       if num1%i==0:    \n",
    "        count_num1+=1 # if integer completely divide by i than it will count\n",
    "    if count_num1==0:  # if count_num1 is zero than integer will be prime\n",
    "      print(\"integer is prime\")\n",
    "    else:      # if count_num1 is not zero than integer will be not prime \n",
    "        print(\"integer is not prime\")\n",
    "else:\n",
    "   print(\"integer is less than 1\")\n",
    "    "
   ]
  },
  {
   "cell_type": "code",
   "execution_count": null,
   "metadata": {},
   "outputs": [],
   "source": []
  }
 ],
 "metadata": {
  "kernelspec": {
   "display_name": "Python 3",
   "language": "python",
   "name": "python3"
  },
  "language_info": {
   "codemirror_mode": {
    "name": "ipython",
    "version": 3
   },
   "file_extension": ".py",
   "mimetype": "text/x-python",
   "name": "python",
   "nbconvert_exporter": "python",
   "pygments_lexer": "ipython3",
   "version": "3.11.6"
  }
 },
 "nbformat": 4,
 "nbformat_minor": 2
}
